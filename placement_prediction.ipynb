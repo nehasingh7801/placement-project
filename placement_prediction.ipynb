{
 "cells": [
  {
   "cell_type": "code",
   "execution_count": 5,
   "id": "d4956829",
   "metadata": {},
   "outputs": [],
   "source": [
    "import numpy as np\n",
    "import pandas as pd"
   ]
  },
  {
   "cell_type": "code",
   "execution_count": 6,
   "id": "b62e20af",
   "metadata": {},
   "outputs": [],
   "source": [
    "df=pd.read_csv('placement.csv')"
   ]
  },
  {
   "cell_type": "code",
   "execution_count": 7,
   "id": "ec42b6c9",
   "metadata": {},
   "outputs": [
    {
     "data": {
      "text/html": [
       "<div>\n",
       "<style scoped>\n",
       "    .dataframe tbody tr th:only-of-type {\n",
       "        vertical-align: middle;\n",
       "    }\n",
       "\n",
       "    .dataframe tbody tr th {\n",
       "        vertical-align: top;\n",
       "    }\n",
       "\n",
       "    .dataframe thead th {\n",
       "        text-align: right;\n",
       "    }\n",
       "</style>\n",
       "<table border=\"1\" class=\"dataframe\">\n",
       "  <thead>\n",
       "    <tr style=\"text-align: right;\">\n",
       "      <th></th>\n",
       "      <th>Unnamed: 0</th>\n",
       "      <th>cgpa</th>\n",
       "      <th>iq</th>\n",
       "      <th>placement</th>\n",
       "    </tr>\n",
       "  </thead>\n",
       "  <tbody>\n",
       "    <tr>\n",
       "      <th>0</th>\n",
       "      <td>0</td>\n",
       "      <td>6.8</td>\n",
       "      <td>123.0</td>\n",
       "      <td>1</td>\n",
       "    </tr>\n",
       "    <tr>\n",
       "      <th>1</th>\n",
       "      <td>1</td>\n",
       "      <td>5.9</td>\n",
       "      <td>106.0</td>\n",
       "      <td>0</td>\n",
       "    </tr>\n",
       "    <tr>\n",
       "      <th>2</th>\n",
       "      <td>2</td>\n",
       "      <td>5.3</td>\n",
       "      <td>121.0</td>\n",
       "      <td>0</td>\n",
       "    </tr>\n",
       "    <tr>\n",
       "      <th>3</th>\n",
       "      <td>3</td>\n",
       "      <td>7.4</td>\n",
       "      <td>132.0</td>\n",
       "      <td>1</td>\n",
       "    </tr>\n",
       "    <tr>\n",
       "      <th>4</th>\n",
       "      <td>4</td>\n",
       "      <td>5.8</td>\n",
       "      <td>142.0</td>\n",
       "      <td>0</td>\n",
       "    </tr>\n",
       "  </tbody>\n",
       "</table>\n",
       "</div>"
      ],
      "text/plain": [
       "   Unnamed: 0  cgpa     iq  placement\n",
       "0           0   6.8  123.0          1\n",
       "1           1   5.9  106.0          0\n",
       "2           2   5.3  121.0          0\n",
       "3           3   7.4  132.0          1\n",
       "4           4   5.8  142.0          0"
      ]
     },
     "execution_count": 7,
     "metadata": {},
     "output_type": "execute_result"
    }
   ],
   "source": [
    "df.head()"
   ]
  },
  {
   "cell_type": "markdown",
   "id": "9fa8ae37",
   "metadata": {},
   "source": [
    "##### unnamed column is weird and we will remove it"
   ]
  },
  {
   "cell_type": "code",
   "execution_count": 8,
   "id": "734340db",
   "metadata": {},
   "outputs": [
    {
     "name": "stdout",
     "output_type": "stream",
     "text": [
      "<class 'pandas.core.frame.DataFrame'>\n",
      "RangeIndex: 100 entries, 0 to 99\n",
      "Data columns (total 4 columns):\n",
      " #   Column      Non-Null Count  Dtype  \n",
      "---  ------      --------------  -----  \n",
      " 0   Unnamed: 0  100 non-null    int64  \n",
      " 1   cgpa        100 non-null    float64\n",
      " 2   iq          100 non-null    float64\n",
      " 3   placement   100 non-null    int64  \n",
      "dtypes: float64(2), int64(2)\n",
      "memory usage: 3.2 KB\n"
     ]
    }
   ],
   "source": [
    "df.info()"
   ]
  },
  {
   "cell_type": "markdown",
   "id": "7d145cd5",
   "metadata": {},
   "source": [
    "#### PREPROCESSING"
   ]
  },
  {
   "cell_type": "markdown",
   "id": "15f199e2",
   "metadata": {},
   "source": [
    "##### no null values"
   ]
  },
  {
   "cell_type": "code",
   "execution_count": 9,
   "id": "8222fb63",
   "metadata": {},
   "outputs": [],
   "source": [
    "df=df.iloc[:,1:] #all rows, and colums only from 1"
   ]
  },
  {
   "cell_type": "code",
   "execution_count": 10,
   "id": "0a098e8f",
   "metadata": {},
   "outputs": [
    {
     "data": {
      "text/html": [
       "<div>\n",
       "<style scoped>\n",
       "    .dataframe tbody tr th:only-of-type {\n",
       "        vertical-align: middle;\n",
       "    }\n",
       "\n",
       "    .dataframe tbody tr th {\n",
       "        vertical-align: top;\n",
       "    }\n",
       "\n",
       "    .dataframe thead th {\n",
       "        text-align: right;\n",
       "    }\n",
       "</style>\n",
       "<table border=\"1\" class=\"dataframe\">\n",
       "  <thead>\n",
       "    <tr style=\"text-align: right;\">\n",
       "      <th></th>\n",
       "      <th>cgpa</th>\n",
       "      <th>iq</th>\n",
       "      <th>placement</th>\n",
       "    </tr>\n",
       "  </thead>\n",
       "  <tbody>\n",
       "    <tr>\n",
       "      <th>0</th>\n",
       "      <td>6.8</td>\n",
       "      <td>123.0</td>\n",
       "      <td>1</td>\n",
       "    </tr>\n",
       "    <tr>\n",
       "      <th>1</th>\n",
       "      <td>5.9</td>\n",
       "      <td>106.0</td>\n",
       "      <td>0</td>\n",
       "    </tr>\n",
       "    <tr>\n",
       "      <th>2</th>\n",
       "      <td>5.3</td>\n",
       "      <td>121.0</td>\n",
       "      <td>0</td>\n",
       "    </tr>\n",
       "    <tr>\n",
       "      <th>3</th>\n",
       "      <td>7.4</td>\n",
       "      <td>132.0</td>\n",
       "      <td>1</td>\n",
       "    </tr>\n",
       "    <tr>\n",
       "      <th>4</th>\n",
       "      <td>5.8</td>\n",
       "      <td>142.0</td>\n",
       "      <td>0</td>\n",
       "    </tr>\n",
       "  </tbody>\n",
       "</table>\n",
       "</div>"
      ],
      "text/plain": [
       "   cgpa     iq  placement\n",
       "0   6.8  123.0          1\n",
       "1   5.9  106.0          0\n",
       "2   5.3  121.0          0\n",
       "3   7.4  132.0          1\n",
       "4   5.8  142.0          0"
      ]
     },
     "execution_count": 10,
     "metadata": {},
     "output_type": "execute_result"
    }
   ],
   "source": [
    "df.head()\n"
   ]
  },
  {
   "cell_type": "markdown",
   "id": "bb6eee90",
   "metadata": {},
   "source": [
    "#### EDA"
   ]
  },
  {
   "cell_type": "code",
   "execution_count": 11,
   "id": "8ea9f122",
   "metadata": {},
   "outputs": [],
   "source": [
    "import matplotlib.pyplot as plt"
   ]
  },
  {
   "cell_type": "code",
   "execution_count": 12,
   "id": "3f2ea8bf",
   "metadata": {},
   "outputs": [
    {
     "data": {
      "text/plain": [
       "<matplotlib.collections.PathCollection at 0x1d76f1a1c10>"
      ]
     },
     "execution_count": 12,
     "metadata": {},
     "output_type": "execute_result"
    },
    {
     "data": {
      "image/png": "[encoded data removed]",
      "text/plain": [
       "<Figure size 432x288 with 1 Axes>"
      ]
     },
     "metadata": {
      "needs_background": "light"
     },
     "output_type": "display_data"
    }
   ],
   "source": [
    "plt.scatter(df['cgpa'],df['iq'],c=df['placement']) #x axis cgpa y iq and colour coding the placment colum"
   ]
  },
  {
   "cell_type": "markdown",
   "id": "94b989d3",
   "metadata": {},
   "source": [
    "##### c=df['placement'] assigns the 'placement' column from the DataFrame df as the color variable for the scatter plot. This means that the points in the scatter plot will be colored based on the corresponding values in the 'placement' column. "
   ]
  },
  {
   "cell_type": "markdown",
   "id": "f1bb9b83",
   "metadata": {},
   "source": [
    "#### Looking at this you can say that logistic regression can find a line that will classify whether placed or not"
   ]
  },
  {
   "cell_type": "code",
   "execution_count": 13,
   "id": "ca6c157f",
   "metadata": {},
   "outputs": [],
   "source": [
    "X=df.iloc[:,0:2]#independent var first two columns\n",
    "y=df.iloc[:,-1]# dependent var last column"
   ]
  },
  {
   "cell_type": "code",
   "execution_count": 14,
   "id": "2bf4be8e",
   "metadata": {},
   "outputs": [
    {
     "data": {
      "text/html": [
       "<div>\n",
       "<style scoped>\n",
       "    .dataframe tbody tr th:only-of-type {\n",
       "        vertical-align: middle;\n",
       "    }\n",
       "\n",
       "    .dataframe tbody tr th {\n",
       "        vertical-align: top;\n",
       "    }\n",
       "\n",
       "    .dataframe thead th {\n",
       "        text-align: right;\n",
       "    }\n",
       "</style>\n",
       "<table border=\"1\" class=\"dataframe\">\n",
       "  <thead>\n",
       "    <tr style=\"text-align: right;\">\n",
       "      <th></th>\n",
       "      <th>cgpa</th>\n",
       "      <th>iq</th>\n",
       "    </tr>\n",
       "  </thead>\n",
       "  <tbody>\n",
       "    <tr>\n",
       "      <th>0</th>\n",
       "      <td>6.8</td>\n",
       "      <td>123.0</td>\n",
       "    </tr>\n",
       "    <tr>\n",
       "      <th>1</th>\n",
       "      <td>5.9</td>\n",
       "      <td>106.0</td>\n",
       "    </tr>\n",
       "    <tr>\n",
       "      <th>2</th>\n",
       "      <td>5.3</td>\n",
       "      <td>121.0</td>\n",
       "    </tr>\n",
       "    <tr>\n",
       "      <th>3</th>\n",
       "      <td>7.4</td>\n",
       "      <td>132.0</td>\n",
       "    </tr>\n",
       "    <tr>\n",
       "      <th>4</th>\n",
       "      <td>5.8</td>\n",
       "      <td>142.0</td>\n",
       "    </tr>\n",
       "    <tr>\n",
       "      <th>...</th>\n",
       "      <td>...</td>\n",
       "      <td>...</td>\n",
       "    </tr>\n",
       "    <tr>\n",
       "      <th>95</th>\n",
       "      <td>4.3</td>\n",
       "      <td>200.0</td>\n",
       "    </tr>\n",
       "    <tr>\n",
       "      <th>96</th>\n",
       "      <td>4.4</td>\n",
       "      <td>42.0</td>\n",
       "    </tr>\n",
       "    <tr>\n",
       "      <th>97</th>\n",
       "      <td>6.7</td>\n",
       "      <td>182.0</td>\n",
       "    </tr>\n",
       "    <tr>\n",
       "      <th>98</th>\n",
       "      <td>6.3</td>\n",
       "      <td>103.0</td>\n",
       "    </tr>\n",
       "    <tr>\n",
       "      <th>99</th>\n",
       "      <td>6.2</td>\n",
       "      <td>113.0</td>\n",
       "    </tr>\n",
       "  </tbody>\n",
       "</table>\n",
       "<p>100 rows × 2 columns</p>\n",
       "</div>"
      ],
      "text/plain": [
       "    cgpa     iq\n",
       "0    6.8  123.0\n",
       "1    5.9  106.0\n",
       "2    5.3  121.0\n",
       "3    7.4  132.0\n",
       "4    5.8  142.0\n",
       "..   ...    ...\n",
       "95   4.3  200.0\n",
       "96   4.4   42.0\n",
       "97   6.7  182.0\n",
       "98   6.3  103.0\n",
       "99   6.2  113.0\n",
       "\n",
       "[100 rows x 2 columns]"
      ]
     },
     "execution_count": 14,
     "metadata": {},
     "output_type": "execute_result"
    }
   ],
   "source": [
    "X"
   ]
  },
  {
   "cell_type": "code",
   "execution_count": 15,
   "id": "3e6539cd",
   "metadata": {},
   "outputs": [
    {
     "data": {
      "text/plain": [
       "0     1\n",
       "1     0\n",
       "2     0\n",
       "3     1\n",
       "4     0\n",
       "     ..\n",
       "95    0\n",
       "96    0\n",
       "97    1\n",
       "98    1\n",
       "99    1\n",
       "Name: placement, Length: 100, dtype: int64"
      ]
     },
     "execution_count": 15,
     "metadata": {},
     "output_type": "execute_result"
    }
   ],
   "source": [
    "y"
   ]
  },
  {
   "cell_type": "markdown",
   "id": "1f573210",
   "metadata": {},
   "source": [
    "#### Splitting data into train and test set"
   ]
  },
  {
   "cell_type": "code",
   "execution_count": 16,
   "id": "6e44ef72",
   "metadata": {},
   "outputs": [],
   "source": [
    "from sklearn.model_selection import train_test_split"
   ]
  },
  {
   "cell_type": "code",
   "execution_count": 17,
   "id": "4888e00d",
   "metadata": {
    "scrolled": true
   },
   "outputs": [],
   "source": [
    "#train_test_split(X,y,test_size=0.1)"
   ]
  },
  {
   "cell_type": "markdown",
   "id": "d0041dbf",
   "metadata": {},
   "source": [
    "##### the first part of the function returns the x train data then x test data then y train and finally y test"
   ]
  },
  {
   "cell_type": "code",
   "execution_count": 18,
   "id": "423861ff",
   "metadata": {},
   "outputs": [],
   "source": [
    "X_train, X_test, y_train, y_test=train_test_split(X,y,test_size=0.1)"
   ]
  },
  {
   "cell_type": "markdown",
   "id": "267d1479",
   "metadata": {},
   "source": [
    "#### SCALING"
   ]
  },
  {
   "cell_type": "code",
   "execution_count": 19,
   "id": "239c1d80",
   "metadata": {},
   "outputs": [],
   "source": [
    "from sklearn.preprocessing import StandardScaler"
   ]
  },
  {
   "cell_type": "code",
   "execution_count": 20,
   "id": "22c4752c",
   "metadata": {},
   "outputs": [],
   "source": [
    "scaler=StandardScaler()"
   ]
  },
  {
   "cell_type": "markdown",
   "id": "8a192176",
   "metadata": {},
   "source": [
    "##### StandardScaler is a commonly used preprocessing class in scikit-learn (sklearn) for standardizing features or variables. Standardization, also known as z-score normalization, is a technique used to transform numerical data so that it has zero mean and unit variance. "
   ]
  },
  {
   "cell_type": "code",
   "execution_count": 21,
   "id": "310c00a5",
   "metadata": {},
   "outputs": [],
   "source": [
    "X_train=scaler.fit_transform(X_train)\n",
    "#The transform method applies the standardization to the DataFrame df using the learned parameters (mean and standard deviation)\n",
    "#from the fit step. It returns a NumPy array, where each feature has been standardized."
   ]
  },
  {
   "cell_type": "code",
   "execution_count": 22,
   "id": "3b937ff8",
   "metadata": {},
   "outputs": [
    {
     "data": {
      "text/plain": [
       "array([[ 1.13190012e+00, -1.80537848e+00],\n",
       "       [ 6.95434777e-01, -8.28471443e-01],\n",
       "       [-2.90976894e-03, -5.35399331e-01],\n",
       "       [ 9.57313981e-01,  6.61311794e-01],\n",
       "       [-2.35982261e+00,  1.44283743e+00],\n",
       "       [ 8.70020913e-01, -1.46346102e+00],\n",
       "       [-2.90976894e-03, -1.92749186e+00],\n",
       "       [ 1.13190012e+00, -1.93481867e-01],\n",
       "       [-8.75840451e-01, -1.44636515e-01],\n",
       "       [-2.64788974e-01,  1.10091996e+00],\n",
       "       [ 1.56836546e+00, -2.42327219e-01],\n",
       "       [ 2.58969436e-01,  9.95902455e-02],\n",
       "       [-8.75840451e-01, -1.48788369e+00],\n",
       "       [ 1.30648625e+00, -1.53672905e+00],\n",
       "       [-9.63133519e-01,  1.76033221e+00],\n",
       "       [ 6.95434777e-01, -2.25231345e-02],\n",
       "       [ 1.74295160e+00, -1.09712088e+00],\n",
       "       [-2.90976894e-03,  1.89954147e-03],\n",
       "       [ 1.71676367e-01, -2.66749895e-01],\n",
       "       [ 1.83024466e+00,  1.02765193e+00],\n",
       "       [ 3.46262504e-01, -1.93481867e-01],\n",
       "       [ 8.70020913e-01,  1.24745602e+00],\n",
       "       [ 1.30648625e+00,  8.32270526e-01],\n",
       "       [ 8.70020913e-01, -2.91172571e-01],\n",
       "       [-2.90976894e-03, -1.41461567e+00],\n",
       "       [-1.39959886e+00, -2.00075989e+00],\n",
       "       [ 4.33555572e-01, -2.12287327e+00],\n",
       "       [ 1.21919319e+00,  1.97280950e-01],\n",
       "       [-1.48689193e+00,  1.85802292e+00],\n",
       "       [ 2.00483080e+00,  1.07649729e+00],\n",
       "       [ 3.46262504e-01,  4.17085034e-01],\n",
       "       [-5.26668178e-01,  2.70548978e-01],\n",
       "       [-6.13961246e-01, -2.42327219e-01],\n",
       "       [-7.88547383e-01, -1.41461567e+00],\n",
       "       [-8.75840451e-01, -8.04048767e-01],\n",
       "       [ 8.43832993e-02,  1.97280950e-01],\n",
       "       [-1.74877113e+00, -5.84244683e-01],\n",
       "       [ 6.08141709e-01,  7.34579822e-01],\n",
       "       [ 4.33555572e-01,  8.81115878e-01],\n",
       "       [-7.01254315e-01, -8.28471443e-01],\n",
       "       [-7.01254315e-01,  1.97280950e-01],\n",
       "       [-1.05042659e+00,  1.10091996e+00],\n",
       "       [-7.88547383e-01,  1.27187869e+00],\n",
       "       [ 1.13190012e+00, -9.26162147e-01],\n",
       "       [-7.88547383e-01,  9.95902455e-02],\n",
       "       [ 8.43832993e-02, -1.04827553e+00],\n",
       "       [-1.05042659e+00,  4.17085034e-01],\n",
       "       [ 8.70020913e-01,  1.83360024e+00],\n",
       "       [ 6.08141709e-01,  1.41841475e+00],\n",
       "       [ 8.43832993e-02, -5.10976655e-01],\n",
       "       [ 7.82727845e-01, -6.81935387e-01],\n",
       "       [ 7.82727845e-01,  3.68239682e-01],\n",
       "       [ 2.17941694e+00, -9.57911626e-02],\n",
       "       [-1.05042659e+00, -2.91172571e-01],\n",
       "       [ 6.95434777e-01,  4.17085034e-01],\n",
       "       [-2.18523647e+00,  2.66397123e+00],\n",
       "       [-1.83606420e+00, -3.64440599e-01],\n",
       "       [-1.74877113e+00, -1.19481158e+00],\n",
       "       [ 2.58969436e-01, -5.10976655e-01],\n",
       "       [-5.26668178e-01,  3.68239682e-01],\n",
       "       [ 4.33555572e-01, -8.28471443e-01],\n",
       "       [ 8.43832993e-02, -1.43903834e+00],\n",
       "       [ 8.70020913e-01,  3.68239682e-01],\n",
       "       [ 5.20848640e-01,  3.43817006e-01],\n",
       "       [-7.01254315e-01, -3.40017923e-01],\n",
       "       [ 4.33555572e-01,  1.48435597e-01],\n",
       "       [-7.01254315e-01,  9.05538554e-01],\n",
       "       [-1.13771966e+00, -9.01739471e-01],\n",
       "       [-2.64788974e-01,  1.97280950e-01],\n",
       "       [ 9.57313981e-01, -1.85422383e+00],\n",
       "       [ 1.39377932e+00, -8.52894119e-01],\n",
       "       [-9.63133519e-01, -1.53672905e+00],\n",
       "       [-1.39959886e+00,  6.12466442e-01],\n",
       "       [-1.05042659e+00,  9.54383906e-01],\n",
       "       [ 1.13190012e+00,  3.19394330e-01],\n",
       "       [-9.63133519e-01,  2.46126302e-01],\n",
       "       [ 1.83024466e+00,  6.12466442e-01],\n",
       "       [ 2.58969436e-01,  7.51675695e-02],\n",
       "       [-2.64788974e-01,  4.65930386e-01],\n",
       "       [ 7.82727845e-01,  3.43817006e-01],\n",
       "       [ 8.43832993e-02,  7.83425174e-01],\n",
       "       [-7.01254315e-01,  2.44416714e+00],\n",
       "       [-5.26668178e-01, -4.13285951e-01],\n",
       "       [-1.77495905e-01,  1.02765193e+00],\n",
       "       [-1.77495905e-01,  4.41507710e-01],\n",
       "       [-9.63133519e-01,  6.61311794e-01],\n",
       "       [ 5.20848640e-01, -9.57911626e-02],\n",
       "       [-5.26668178e-01, -2.42327219e-01],\n",
       "       [-9.63133519e-01,  7.59002498e-01],\n",
       "       [-9.63133519e-01, -9.57911626e-02]])"
      ]
     },
     "execution_count": 22,
     "metadata": {},
     "output_type": "execute_result"
    }
   ],
   "source": [
    "X_train"
   ]
  },
  {
   "cell_type": "markdown",
   "id": "a39ae163",
   "metadata": {},
   "source": [
    "##### All values are now between -1 to 1"
   ]
  },
  {
   "cell_type": "code",
   "execution_count": 23,
   "id": "da49afa0",
   "metadata": {},
   "outputs": [],
   "source": [
    "X_test=scaler.transform(X_test)"
   ]
  },
  {
   "cell_type": "markdown",
   "id": "094dd726",
   "metadata": {},
   "source": [
    "##### no need to fit the data anymore, pattern already established in train"
   ]
  },
  {
   "cell_type": "code",
   "execution_count": 24,
   "id": "a7339e4b",
   "metadata": {},
   "outputs": [
    {
     "data": {
      "text/plain": [
       "array([[-0.09020284, -0.43770863],\n",
       "       [-0.61396125, -0.07136849],\n",
       "       [ 1.30648625,  0.1484356 ],\n",
       "       [-0.00290977,  0.61246644],\n",
       "       [-1.13771966, -1.75653313],\n",
       "       [-0.26478897,  0.39266236],\n",
       "       [-1.13771966, -0.07136849],\n",
       "       [ 0.69543478, -0.29117257],\n",
       "       [-1.22501272,  0.53919841],\n",
       "       [ 1.39377932,  0.09959025]])"
      ]
     },
     "execution_count": 24,
     "metadata": {},
     "output_type": "execute_result"
    }
   ],
   "source": [
    "X_test"
   ]
  },
  {
   "cell_type": "markdown",
   "id": "7090d1ea",
   "metadata": {},
   "source": [
    "#### TRAIN MODEL"
   ]
  },
  {
   "cell_type": "code",
   "execution_count": 25,
   "id": "65c7f45b",
   "metadata": {},
   "outputs": [],
   "source": [
    "from sklearn.linear_model import LogisticRegression"
   ]
  },
  {
   "cell_type": "code",
   "execution_count": 26,
   "id": "596596d8",
   "metadata": {},
   "outputs": [],
   "source": [
    "clf=LogisticRegression()"
   ]
  },
  {
   "cell_type": "code",
   "execution_count": 27,
   "id": "69668d4a",
   "metadata": {},
   "outputs": [
    {
     "data": {
      "text/html": [
       "<style>#sk-container-id-1 {color: black;}#sk-container-id-1 pre{padding: 0;}#sk-container-id-1 div.sk-toggleable {background-color: white;}#sk-container-id-1 label.sk-toggleable__label {cursor: pointer;display: block;width: 100%;margin-bottom: 0;padding: 0.3em;box-sizing: border-box;text-align: center;}#sk-container-id-1 label.sk-toggleable__label-arrow:before {content: \"▸\";float: left;margin-right: 0.25em;color: #696969;}#sk-container-id-1 label.sk-toggleable__label-arrow:hover:before {color: black;}#sk-container-id-1 div.sk-estimator:hover label.sk-toggleable__label-arrow:before {color: black;}#sk-container-id-1 div.sk-toggleable__content {max-height: 0;max-width: 0;overflow: hidden;text-align: left;background-color: #f0f8ff;}#sk-container-id-1 div.sk-toggleable__content pre {margin: 0.2em;color: black;border-radius: 0.25em;background-color: #f0f8ff;}#sk-container-id-1 input.sk-toggleable__control:checked~div.sk-toggleable__content {max-height: 200px;max-width: 100%;overflow: auto;}#sk-container-id-1 input.sk-toggleable__control:checked~label.sk-toggleable__label-arrow:before {content: \"▾\";}#sk-container-id-1 div.sk-estimator input.sk-toggleable__control:checked~label.sk-toggleable__label {background-color: #d4ebff;}#sk-container-id-1 div.sk-label input.sk-toggleable__control:checked~label.sk-toggleable__label {background-color: #d4ebff;}#sk-container-id-1 input.sk-hidden--visually {border: 0;clip: rect(1px 1px 1px 1px);clip: rect(1px, 1px, 1px, 1px);height: 1px;margin: -1px;overflow: hidden;padding: 0;position: absolute;width: 1px;}#sk-container-id-1 div.sk-estimator {font-family: monospace;background-color: #f0f8ff;border: 1px dotted black;border-radius: 0.25em;box-sizing: border-box;margin-bottom: 0.5em;}#sk-container-id-1 div.sk-estimator:hover {background-color: #d4ebff;}#sk-container-id-1 div.sk-parallel-item::after {content: \"\";width: 100%;border-bottom: 1px solid gray;flex-grow: 1;}#sk-container-id-1 div.sk-label:hover label.sk-toggleable__label {background-color: #d4ebff;}#sk-container-id-1 div.sk-serial::before {content: \"\";position: absolute;border-left: 1px solid gray;box-sizing: border-box;top: 0;bottom: 0;left: 50%;z-index: 0;}#sk-container-id-1 div.sk-serial {display: flex;flex-direction: column;align-items: center;background-color: white;padding-right: 0.2em;padding-left: 0.2em;position: relative;}#sk-container-id-1 div.sk-item {position: relative;z-index: 1;}#sk-container-id-1 div.sk-parallel {display: flex;align-items: stretch;justify-content: center;background-color: white;position: relative;}#sk-container-id-1 div.sk-item::before, #sk-container-id-1 div.sk-parallel-item::before {content: \"\";position: absolute;border-left: 1px solid gray;box-sizing: border-box;top: 0;bottom: 0;left: 50%;z-index: -1;}#sk-container-id-1 div.sk-parallel-item {display: flex;flex-direction: column;z-index: 1;position: relative;background-color: white;}#sk-container-id-1 div.sk-parallel-item:first-child::after {align-self: flex-end;width: 50%;}#sk-container-id-1 div.sk-parallel-item:last-child::after {align-self: flex-start;width: 50%;}#sk-container-id-1 div.sk-parallel-item:only-child::after {width: 0;}#sk-container-id-1 div.sk-dashed-wrapped {border: 1px dashed gray;margin: 0 0.4em 0.5em 0.4em;box-sizing: border-box;padding-bottom: 0.4em;background-color: white;}#sk-container-id-1 div.sk-label label {font-family: monospace;font-weight: bold;display: inline-block;line-height: 1.2em;}#sk-container-id-1 div.sk-label-container {text-align: center;}#sk-container-id-1 div.sk-container {/* jupyter's `normalize.less` sets `[hidden] { display: none; }` but bootstrap.min.css set `[hidden] { display: none !important; }` so we also need the `!important` here to be able to override the default hidden behavior on the sphinx rendered scikit-learn.org. See: https://github.com/scikit-learn/scikit-learn/issues/21755 */display: inline-block !important;position: relative;}#sk-container-id-1 div.sk-text-repr-fallback {display: none;}</style><div id=\"sk-container-id-1\" class=\"sk-top-container\"><div class=\"sk-text-repr-fallback\"><pre>LogisticRegression()</pre><b>In a Jupyter environment, please rerun this cell to show the HTML representation or trust the notebook. <br />On GitHub, the HTML representation is unable to render, please try loading this page with nbviewer.org.</b></div><div class=\"sk-container\" hidden><div class=\"sk-item\"><div class=\"sk-estimator sk-toggleable\"><input class=\"sk-toggleable__control sk-hidden--visually\" id=\"sk-estimator-id-1\" type=\"checkbox\" checked><label for=\"sk-estimator-id-1\" class=\"sk-toggleable__label sk-toggleable__label-arrow\">LogisticRegression</label><div class=\"sk-toggleable__content\"><pre>LogisticRegression()</pre></div></div></div></div></div>"
      ],
      "text/plain": [
       "LogisticRegression()"
      ]
     },
     "execution_count": 27,
     "metadata": {},
     "output_type": "execute_result"
    }
   ],
   "source": [
    "#training the model by just using the 'fit' function in the LogisticRegression()\n",
    "clf.fit(X_train,y_train)"
   ]
  },
  {
   "cell_type": "markdown",
   "id": "313ed266",
   "metadata": {},
   "source": [
    "#### MODEL EVALUATION"
   ]
  },
  {
   "cell_type": "code",
   "execution_count": 28,
   "id": "b0552527",
   "metadata": {},
   "outputs": [
    {
     "data": {
      "text/plain": [
       "array([0, 0, 1, 1, 0, 0, 0, 1, 0, 1], dtype=int64)"
      ]
     },
     "execution_count": 28,
     "metadata": {},
     "output_type": "execute_result"
    }
   ],
   "source": [
    "#testing the model using 'predict' function\n",
    "clf.predict(X_test)"
   ]
  },
  {
   "cell_type": "code",
   "execution_count": 29,
   "id": "1b91e1af",
   "metadata": {},
   "outputs": [
    {
     "data": {
      "text/plain": [
       "1     0\n",
       "2     0\n",
       "83    1\n",
       "33    0\n",
       "94    0\n",
       "36    0\n",
       "24    0\n",
       "93    1\n",
       "39    0\n",
       "30    1\n",
       "Name: placement, dtype: int64"
      ]
     },
     "execution_count": 29,
     "metadata": {},
     "output_type": "execute_result"
    }
   ],
   "source": [
    "y_test"
   ]
  },
  {
   "cell_type": "code",
   "execution_count": 30,
   "id": "562edc26",
   "metadata": {},
   "outputs": [],
   "source": [
    "y_pred=clf.predict(X_test)\n",
    "#just storing the predicted values in this"
   ]
  },
  {
   "cell_type": "markdown",
   "id": "ccac1a90",
   "metadata": {},
   "source": [
    "#### USING Y_PRED AND Y_TEST WE CHECK THE ACCURACY SCORE"
   ]
  },
  {
   "cell_type": "code",
   "execution_count": 31,
   "id": "a7ed54ab",
   "metadata": {},
   "outputs": [],
   "source": [
    "from sklearn.metrics import accuracy_score"
   ]
  },
  {
   "cell_type": "code",
   "execution_count": 32,
   "id": "21fdcd7c",
   "metadata": {},
   "outputs": [
    {
     "data": {
      "text/plain": [
       "0.9"
      ]
     },
     "execution_count": 32,
     "metadata": {},
     "output_type": "execute_result"
    }
   ],
   "source": [
    "accuracy_score(y_test,y_pred)"
   ]
  },
  {
   "cell_type": "markdown",
   "id": "a9f0d4d0",
   "metadata": {},
   "source": [
    "##### Model is giving us 90% accuracy"
   ]
  },
  {
   "cell_type": "markdown",
   "id": "1756f60a",
   "metadata": {},
   "source": [
    "##### Plotting/visualizing the accuracy using mlxted"
   ]
  },
  {
   "cell_type": "code",
   "execution_count": 33,
   "id": "2b69b253",
   "metadata": {},
   "outputs": [],
   "source": [
    "from mlxtend.plotting import plot_decision_regions"
   ]
  },
  {
   "cell_type": "code",
   "execution_count": 35,
   "id": "974e6652",
   "metadata": {},
   "outputs": [
    {
     "data": {
      "text/plain": [
       "<AxesSubplot:>"
      ]
     },
     "execution_count": 35,
     "metadata": {},
     "output_type": "execute_result"
    },
    {
     "data": {
      "image/png": "[encoded data removed]",
      "text/plain": [
       "<Figure size 432x288 with 1 Axes>"
      ]
     },
     "metadata": {
      "needs_background": "light"
     },
     "output_type": "display_data"
    }
   ],
   "source": [
    "plot_decision_regions(X_train, y_train.values, clf=clf, legend=2)\n",
    "#In pandas, .values is an attribute used to get the underlying data of a DataFrame in the form of a NumPy array. \n",
    "#When you access .values,you obtain a 2-dimensional array (if the DataFrame has multiple columns) or a 1-dimensional array\n",
    "#x_train was already standardized and converted into a numpy array, y_train.values will now be a numpy array"
   ]
  },
  {
   "cell_type": "markdown",
   "id": "345b4c69",
   "metadata": {},
   "source": [
    "##### You can notice the mistakes the model is making, few triangles are on the square side and vice versa"
   ]
  },
  {
   "cell_type": "code",
   "execution_count": 38,
   "id": "86918dbc",
   "metadata": {},
   "outputs": [],
   "source": [
    "import pickle\n",
    "#converts the object to a file, you can use the file in any object"
   ]
  },
  {
   "cell_type": "code",
   "execution_count": 39,
   "id": "4f5c360c",
   "metadata": {},
   "outputs": [],
   "source": [
    "#converting clf to file\n",
    "pickle.dump(clf, open('model.pkl','wb'))"
   ]
  },
  {
   "cell_type": "code",
   "execution_count": null,
   "id": "11b78931",
   "metadata": {},
   "outputs": [],
   "source": []
  }
 ],
 "metadata": {
  "kernelspec": {
   "display_name": "Python 3",
   "language": "python",
   "name": "python3"
  },
  "language_info": {
   "codemirror_mode": {
    "name": "ipython",
    "version": 3
   },
   "file_extension": ".py",
   "mimetype": "text/x-python",
   "name": "python",
   "nbconvert_exporter": "python",
   "pygments_lexer": "ipython3",
   "version": "3.8.8"
  }
 },
 "nbformat": 4,
 "nbformat_minor": 5
}
